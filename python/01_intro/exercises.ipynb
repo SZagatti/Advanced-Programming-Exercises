{
 "cells": [
  {
   "cell_type": "markdown",
   "metadata": {},
   "source": [
    "### print the list `lst` sorted in descending order. `lst` must not be modified"
   ]
  },
  {
   "cell_type": "code",
   "execution_count": 1,
   "metadata": {},
   "outputs": [],
   "source": [
    "lst = [12,\n",
    "       41,\n",
    "       0,\n",
    "       -5,\n",
    "       -9,\n",
    "       34,\n",
    "       12,\n",
    "       5,] # you can add , also to the last element (i.e., after each element)"
   ]
  },
  {
   "cell_type": "code",
   "execution_count": 2,
   "metadata": {},
   "outputs": [
    {
     "name": "stdout",
     "output_type": "stream",
     "text": [
      "sorted lst [41, 34, 12, 12, 5, 0, -5, -9]\n"
     ]
    }
   ],
   "source": [
    "print(\"sorted lst\", sorted(lst, reverse = True))"
   ]
  },
  {
   "cell_type": "markdown",
   "metadata": {},
   "source": [
    "### print the **absolute value** of the elements`lst` sorted in ascending order.\n",
    "### Hint: you can use the `abs` function"
   ]
  },
  {
   "cell_type": "code",
   "execution_count": 3,
   "metadata": {},
   "outputs": [
    {
     "data": {
      "text/plain": [
       "[9, 5, 0, 5, 12, 12, 34, 41]"
      ]
     },
     "execution_count": 3,
     "metadata": {},
     "output_type": "execute_result"
    }
   ],
   "source": [
    "[abs(i) for i in sorted(lst)] #first we sort then we take the abs value"
   ]
  },
  {
   "cell_type": "code",
   "execution_count": 4,
   "metadata": {},
   "outputs": [
    {
     "data": {
      "text/plain": [
       "[0, -5, 5, -9, 12, 12, 34, 41]"
      ]
     },
     "execution_count": 4,
     "metadata": {},
     "output_type": "execute_result"
    }
   ],
   "source": [
    "sorted(lst, key = abs)\n",
    "#prints the elements of lst sorted according to their absolute values, it doesn't print the absolute values"
   ]
  },
  {
   "cell_type": "code",
   "execution_count": 5,
   "metadata": {},
   "outputs": [
    {
     "data": {
      "text/plain": [
       "[0, 5, 5, 9, 12, 12, 34, 41]"
      ]
     },
     "execution_count": 5,
     "metadata": {},
     "output_type": "execute_result"
    }
   ],
   "source": [
    "[abs(i) for i in sorted(lst, key=abs)]"
   ]
  },
  {
   "cell_type": "markdown",
   "metadata": {},
   "source": [
    "### read a string from input, print the number of non-repeated chars "
   ]
  },
  {
   "cell_type": "code",
   "execution_count": 6,
   "metadata": {},
   "outputs": [
    {
     "name": "stdin",
     "output_type": "stream",
     "text": [
      " anna\n"
     ]
    },
    {
     "name": "stdout",
     "output_type": "stream",
     "text": [
      "2\n"
     ]
    }
   ],
   "source": [
    "#set is a structure that doesn't allow for repetitions and can be initialized by an iterable\n",
    "#we want to print the number of non repeated, so the len\n",
    "print(len(set(input())))"
   ]
  },
  {
   "cell_type": "markdown",
   "metadata": {},
   "source": [
    "### Use the pythonic way to iterate over `lst` such that inside the `for` loop you have both the index and the corresponding element in order to generate the following output\n",
    "\n",
    "```\n",
    "lst[0] = 12\n",
    "lst[1] = 41\n",
    "lst[2] = 0\n",
    "lst[3] = -5\n",
    "lst[4] = -9\n",
    "lst[5] = 34\n",
    "lst[6] = 12\n",
    "lst[7] = 5\n",
    "```"
   ]
  },
  {
   "cell_type": "code",
   "execution_count": 7,
   "metadata": {},
   "outputs": [
    {
     "name": "stdout",
     "output_type": "stream",
     "text": [
      "lst[0] = 12\n",
      "lst[1] = 41\n",
      "lst[2] = 0\n",
      "lst[3] = -5\n",
      "lst[4] = -9\n",
      "lst[5] = 34\n",
      "lst[6] = 12\n",
      "lst[7] = 5\n"
     ]
    }
   ],
   "source": [
    "for i in range(len(lst)):\n",
    "    print(\"lst[\",i,\"] = \", lst[i], sep=\"\")"
   ]
  },
  {
   "cell_type": "code",
   "execution_count": 8,
   "metadata": {},
   "outputs": [
    {
     "name": "stdout",
     "output_type": "stream",
     "text": [
      "lst[0] = 12\n",
      "lst[1] = 41\n",
      "lst[2] = 0\n",
      "lst[3] = -5\n",
      "lst[4] = -9\n",
      "lst[5] = 34\n",
      "lst[6] = 12\n",
      "lst[7] = 5\n"
     ]
    }
   ],
   "source": [
    "for i, elem in enumerate(lst):  #more pythonic\n",
    "    print(\"lst[\",i,\"] = \", elem, sep=\"\") "
   ]
  },
  {
   "cell_type": "markdown",
   "metadata": {},
   "source": [
    "### Transform the following for loop into a list comp"
   ]
  },
  {
   "cell_type": "code",
   "execution_count": 9,
   "metadata": {},
   "outputs": [
    {
     "data": {
      "text/plain": [
       "[1, 9, 25, 49, 81]"
      ]
     },
     "execution_count": 9,
     "metadata": {},
     "output_type": "execute_result"
    }
   ],
   "source": [
    "odd_squares = []\n",
    "for i in range(10):\n",
    "    if i%2 != 0:\n",
    "        odd_squares.append(i**2)\n",
    "odd_squares"
   ]
  },
  {
   "cell_type": "code",
   "execution_count": 10,
   "metadata": {},
   "outputs": [
    {
     "data": {
      "text/plain": [
       "[1, 9, 25, 49, 81]"
      ]
     },
     "execution_count": 10,
     "metadata": {},
     "output_type": "execute_result"
    }
   ],
   "source": [
    "odd_squares = [i**2 for i in range(10) if i%2]\n",
    "odd_squares"
   ]
  },
  {
   "cell_type": "markdown",
   "metadata": {},
   "source": [
    "### clear the content of `lst` such that also all other references are cleared as well"
   ]
  },
  {
   "cell_type": "code",
   "execution_count": 11,
   "metadata": {},
   "outputs": [],
   "source": [
    "other_lst = lst\n",
    "a = lst"
   ]
  },
  {
   "cell_type": "code",
   "execution_count": 12,
   "metadata": {},
   "outputs": [],
   "source": [
    "lst.clear()"
   ]
  },
  {
   "cell_type": "markdown",
   "metadata": {},
   "source": [
    "### implement the following functions. Try to do it with just one line of code"
   ]
  },
  {
   "cell_type": "code",
   "execution_count": 13,
   "metadata": {},
   "outputs": [],
   "source": [
    "def is_palindrome(string):     \n",
    "    '''\n",
    "    returns True if string is palindrome, False otherwise\n",
    "    '''\n",
    "    return string == \"\".join(reversed(string))\n",
    "\n",
    "# reversed returns an iterable, join() method takes all items in an iterable and joins them into one string."
   ]
  },
  {
   "cell_type": "code",
   "execution_count": 14,
   "metadata": {},
   "outputs": [
    {
     "data": {
      "text/plain": [
       "True"
      ]
     },
     "execution_count": 14,
     "metadata": {},
     "output_type": "execute_result"
    }
   ],
   "source": [
    "is_palindrome(\"anna\")"
   ]
  },
  {
   "cell_type": "code",
   "execution_count": 25,
   "metadata": {},
   "outputs": [],
   "source": [
    "def counter_dict(sequence):     \n",
    "    '''\n",
    "    count how many times an element is present in the sequence var\n",
    "    and returns a dict\n",
    "    '''\n",
    "    #from collections import Counter\n",
    "    #return(Counter(sequence))\n",
    "    \n",
    "    return{k: sequence.count(k) for k in sequence} #curly braces for dict\n",
    "    # return{k: sequence.count(k) for k in set(sequence)}"
   ]
  },
  {
   "cell_type": "code",
   "execution_count": 26,
   "metadata": {},
   "outputs": [
    {
     "data": {
      "text/plain": [
       "Counter({'a': 2, 'n': 2})"
      ]
     },
     "execution_count": 26,
     "metadata": {},
     "output_type": "execute_result"
    }
   ],
   "source": [
    "counter_dict(\"anna\")"
   ]
  },
  {
   "cell_type": "code",
   "execution_count": 35,
   "metadata": {},
   "outputs": [
    {
     "data": {
      "text/plain": [
       "('b', 3)"
      ]
     },
     "execution_count": 35,
     "metadata": {},
     "output_type": "execute_result"
    }
   ],
   "source": [
    "def get_most_frequent(sequence):\n",
    "    '''\n",
    "    returns a tuple with the most frequent object in the sequence with the \n",
    "    corresponing number\n",
    "    '''\n",
    "    return max(counter_dict(sequence).items(), key=lambda x: x[1]) #key is to consider the second element of the dict\n",
    "\n",
    "lst = [\"a\", \"b\", \"b\", \"a\", \"b\"]\n",
    "get_most_frequent(lst)"
   ]
  },
  {
   "cell_type": "code",
   "execution_count": 38,
   "metadata": {},
   "outputs": [],
   "source": [
    "def which_duplicates(sequence):\n",
    "    '''\n",
    "    return a dict containing the repeted objects and the number of repetitions\n",
    "    '''\n",
    "    return{k: sequence.count(k) for k in sequence if sequence.count(k)>1}"
   ]
  },
  {
   "cell_type": "code",
   "execution_count": 41,
   "metadata": {},
   "outputs": [
    {
     "data": {
      "text/plain": [
       "{'m': 4, 'a': 3}"
      ]
     },
     "execution_count": 41,
     "metadata": {},
     "output_type": "execute_result"
    }
   ],
   "source": [
    "which_duplicates(\"mammamia\")"
   ]
  },
  {
   "cell_type": "code",
   "execution_count": null,
   "metadata": {},
   "outputs": [],
   "source": []
  }
 ],
 "metadata": {
  "kernelspec": {
   "display_name": "Python 3",
   "language": "python",
   "name": "python3"
  },
  "language_info": {
   "codemirror_mode": {
    "name": "ipython",
    "version": 3
   },
   "file_extension": ".py",
   "mimetype": "text/x-python",
   "name": "python",
   "nbconvert_exporter": "python",
   "pygments_lexer": "ipython3",
   "version": "3.7.4"
  }
 },
 "nbformat": 4,
 "nbformat_minor": 4
}
